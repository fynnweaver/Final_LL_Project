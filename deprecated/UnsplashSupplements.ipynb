{
 "cells": [
  {
   "cell_type": "markdown",
   "id": "f30358e1-f5c7-4e63-b42d-b489a7083642",
   "metadata": {
    "tags": []
   },
   "source": [
    "## Set Up"
   ]
  },
  {
   "cell_type": "code",
   "execution_count": null,
   "id": "c2429148-a7cc-4c53-97ca-0bf558df90b1",
   "metadata": {},
   "outputs": [],
   "source": [
    "import requests as re\n",
    "import pandas as pd\n",
    "import numpy as np\n",
    "\n",
    "# some_file.py\n",
    "import sys\n",
    "# insert at 1, 0 is the script path (or '' in REPL)\n",
    "sys.path.insert(0, '../..')\n",
    "\n",
    "from APIKeys import unsplash_access_key"
   ]
  },
  {
   "cell_type": "code",
   "execution_count": null,
   "id": "3a7c2cef-ca5a-44ae-8dd0-a945f7fde707",
   "metadata": {},
   "outputs": [],
   "source": [
    "#Basic api call function\n",
    "def API(root, search_term, param, header=None):\n",
    "    \"\"\"\n",
    "    'search_term' must be a string of valid end point queries \n",
    "            - as specified by the relevent documentation\n",
    "            \n",
    "    OUTPUT: JSON of results\n",
    "   \"\"\"\n",
    " \n",
    "    #define endpoint\n",
    "    if search_term is not None:\n",
    "        #if search_term is defined add it to the root to make the endpoint\n",
    "        endpoint = root + search_term\n",
    "    else:\n",
    "        #otherwise endpoint is just the root\n",
    "        endpoint = root\n",
    "    \n",
    "    #GET\n",
    "    response = re.get(endpoint, params = param, headers=header)\n",
    "   \n",
    "    #return status code and results\n",
    "    status_code, results = response.status_code, response.json()\n",
    "    \n",
    "    #Let's make sure it worked\n",
    "    if status_code != 200:\n",
    "        print('Something went wrong!')\n",
    "        print(status_code)\n",
    "        \n",
    "    return results"
   ]
  },
  {
   "cell_type": "markdown",
   "id": "b5311d97-aadd-447e-b8f6-f061fb9469be",
   "metadata": {
    "tags": []
   },
   "source": [
    "## Test"
   ]
  },
  {
   "cell_type": "code",
   "execution_count": null,
   "id": "7daa0e77-41df-4618-98f8-3ec553b52d4a",
   "metadata": {},
   "outputs": [],
   "source": [
    "params = {'client_id': unsplash_access_key}\n",
    "unsplash_root = 'https://api.unsplash.com/'\n",
    "\n",
    "test = API(unsplash_root, 'photos/random', param = params)"
   ]
  },
  {
   "cell_type": "code",
   "execution_count": null,
   "id": "6d652fef-f751-49f5-b101-0114f268ffe0",
   "metadata": {},
   "outputs": [],
   "source": [
    "response = requests.get(test['urls']['raw'])\n",
    "img = Image.open(BytesIO(response.content)) #fairly slow, should limit how much im doing this\n",
    "plt.imshow(img)"
   ]
  },
  {
   "cell_type": "markdown",
   "id": "d4055e76-95f4-4c8a-a4c9-02e16d9ebe31",
   "metadata": {
    "tags": []
   },
   "source": [
    "## Search by topic"
   ]
  },
  {
   "cell_type": "code",
   "execution_count": null,
   "id": "5c58e8d3-07ea-44b2-a5f5-0f1f81aa4910",
   "metadata": {},
   "outputs": [],
   "source": [
    "def unsplash_term_queries(term, pages = 1, orientation = 'landscape'):\n",
    "    \n",
    "    queries = []\n",
    "    \n",
    "    for i in range(0, pages):\n",
    "        params = {'client_id': unsplash_access_key,\n",
    "                  'query': term,\n",
    "                  'page': i + 1,\n",
    "                  'per_page': 30,\n",
    "                  'orientation': orientation}\n",
    "    \n",
    "        queries.append(API(unsplash_root, 'search/photos', param = params)['results'])\n",
    "        \n",
    "    return queries"
   ]
  },
  {
   "cell_type": "code",
   "execution_count": null,
   "id": "1a52f215-f2cc-459c-9a4d-daf36d7428dc",
   "metadata": {},
   "outputs": [],
   "source": [
    "def json_to_images(json_results):\n",
    "    image_arrays = []\n",
    "    \n",
    "    for photo_data in json_results:\n",
    "        response = requests.get(photo_data['urls']['raw'])\n",
    "        img = Image.open(BytesIO(response.content))\n",
    "    \n",
    "        image_arrays.append(np.asarray(img))\n",
    "        \n",
    "    return image_arrays\n",
    "\n",
    "def queries_to_images(queries):\n",
    "    \n",
    "    images = []\n",
    "    \n",
    "    for query in queries:\n",
    "        temp = json_to_images(query)\n",
    "        \n",
    "        for image in temp:\n",
    "            images.append(image)\n",
    "            \n",
    "    return images"
   ]
  },
  {
   "cell_type": "code",
   "execution_count": null,
   "id": "20749fa3-d527-4e01-949d-9585a03ff03d",
   "metadata": {},
   "outputs": [],
   "source": [
    "#-- API Calling (limit: 50/hour) --\n",
    "bird_queries = unsplash_term_queries('bird', 3)"
   ]
  },
  {
   "cell_type": "code",
   "execution_count": null,
   "id": "44208b60-caf4-458b-b78a-8dde7fb355b1",
   "metadata": {},
   "outputs": [],
   "source": [
    "bird_supplement = queries_to_images(bird_queries)\n",
    "        \n",
    "len(bird_supplement)"
   ]
  }
 ],
 "metadata": {
  "kernelspec": {
   "display_name": "Python 3 (ipykernel)",
   "language": "python",
   "name": "python3"
  },
  "language_info": {
   "codemirror_mode": {
    "name": "ipython",
    "version": 3
   },
   "file_extension": ".py",
   "mimetype": "text/x-python",
   "name": "python",
   "nbconvert_exporter": "python",
   "pygments_lexer": "ipython3",
   "version": "3.9.7"
  }
 },
 "nbformat": 4,
 "nbformat_minor": 5
}
