{
 "cells": [
  {
   "cell_type": "markdown",
   "id": "4eae0fe6-f95b-4992-9612-1d1811f2883e",
   "metadata": {},
   "source": [
    "# Collection"
   ]
  },
  {
   "cell_type": "markdown",
   "id": "ff453f47-3c69-4d2a-8c42-d0738b8dc75b",
   "metadata": {},
   "source": [
    "## Unsplash API"
   ]
  },
  {
   "cell_type": "code",
   "execution_count": 19,
   "id": "c5f9ac29-13ff-4f90-bdf9-e50dfab6c9bf",
   "metadata": {},
   "outputs": [],
   "source": [
    "import requests as re\n",
    "import pandas as pd\n",
    "import numpy as np"
   ]
  },
  {
   "cell_type": "code",
   "execution_count": 10,
   "id": "47a22b54-e4c4-4e24-9dbf-ea901090ffca",
   "metadata": {},
   "outputs": [],
   "source": [
    "# some_file.py\n",
    "import sys\n",
    "# insert at 1, 0 is the script path (or '' in REPL)\n",
    "sys.path.insert(1, '../')\n",
    "\n",
    "from unsplash_API import access_key, secret_key"
   ]
  },
  {
   "cell_type": "code",
   "execution_count": 12,
   "id": "5a367881-30f4-4885-bd9a-bc5fda0ecbc4",
   "metadata": {},
   "outputs": [],
   "source": [
    "#Basic api call function\n",
    "def API(root, search_term, param, header=None):\n",
    "    \"\"\"\n",
    "    'search_term' must be a string of valid end point queries \n",
    "            - as specified by the relevent documentation\n",
    "            \n",
    "    OUTPUT: JSON of results\n",
    "   \"\"\"\n",
    " \n",
    "    #define endpoint\n",
    "    if search_term is not None:\n",
    "        #if search_term is defined add it to the root to make the endpoint\n",
    "        endpoint = root + search_term\n",
    "    else:\n",
    "        #otherwise endpoint is just the root\n",
    "        endpoint = root\n",
    "    \n",
    "    #GET\n",
    "    response = re.get(endpoint, params = param, headers=header)\n",
    "   \n",
    "    #return status code and results\n",
    "    status_code, results = response.status_code, response.json()\n",
    "    \n",
    "    #Let's make sure it worked\n",
    "    if status_code != 200:\n",
    "        print('Something went wrong!')\n",
    "        print(status_code)\n",
    "        \n",
    "    return results"
   ]
  },
  {
   "cell_type": "code",
   "execution_count": 23,
   "id": "b361babc-3549-49ff-8b66-fc14183861fe",
   "metadata": {},
   "outputs": [
    {
     "data": {
      "text/plain": [
       "200"
      ]
     },
     "execution_count": 23,
     "metadata": {},
     "output_type": "execute_result"
    }
   ],
   "source": [
    "response = re.get(f'https://api.unsplash.com/photos?client_id={access_key}')\n",
    "status_code, results = response.status_code, response.json()\n",
    "status_code"
   ]
  },
  {
   "cell_type": "code",
   "execution_count": 24,
   "id": "7f23849d-11ef-4d74-b6fb-2a651bc517f6",
   "metadata": {},
   "outputs": [
    {
     "name": "stdout",
     "output_type": "stream",
     "text": [
      "Something went wrong!\n",
      "401\n"
     ]
    },
    {
     "data": {
      "text/plain": [
       "{'errors': ['OAuth error: The access token is invalid']}"
      ]
     },
     "execution_count": 24,
     "metadata": {},
     "output_type": "execute_result"
    }
   ],
   "source": [
    "auth = {'client-ID': access_key}\n",
    "unsplash_root = 'https://api.unsplash.com/'\n",
    "\n",
    "API(unsplash_root, '/photos', param = None, header = header)"
   ]
  }
 ],
 "metadata": {
  "kernelspec": {
   "display_name": "Python 3 (ipykernel)",
   "language": "python",
   "name": "python3"
  },
  "language_info": {
   "codemirror_mode": {
    "name": "ipython",
    "version": 3
   },
   "file_extension": ".py",
   "mimetype": "text/x-python",
   "name": "python",
   "nbconvert_exporter": "python",
   "pygments_lexer": "ipython3",
   "version": "3.9.7"
  }
 },
 "nbformat": 4,
 "nbformat_minor": 5
}
